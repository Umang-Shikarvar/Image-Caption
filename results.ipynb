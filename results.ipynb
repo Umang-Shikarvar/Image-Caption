{
 "cells": [
  {
   "cell_type": "code",
   "execution_count": 1,
   "id": "70d7aa8a",
   "metadata": {},
   "outputs": [
    {
     "name": "stdout",
     "output_type": "stream",
     "text": [
      "loading annotations into memory...\n",
      "Done (t=0.02s)\n",
      "creating index...\n",
      "index created!\n",
      "BLEU-1: 0.6761123126120631\n",
      "BLEU-2: 0.46808188803107736\n",
      "BLEU-3: 0.32751832594064006\n",
      "BLEU-4: 0.2279282454553181\n"
     ]
    }
   ],
   "source": [
    "from nltk.translate.bleu_score import corpus_bleu, SmoothingFunction\n",
    "import json\n",
    "from pycocotools.coco import COCO\n",
    "import nltk\n",
    "\n",
    "# Load ground truth\n",
    "annFile = '/Users/umangshikarvar/Desktop/Project/coco/annotations/captions_val2017.json'\n",
    "coco = COCO(annFile)\n",
    "img_ids = coco.getImgIds()\n",
    "ref_dict = {img_id: [ann['caption'] for ann in coco.imgToAnns[img_id]] for img_id in img_ids}\n",
    "\n",
    "# Load your predictions\n",
    "with open(\"/Users/umangshikarvar/Desktop/Project/predictions.json\") as f:\n",
    "    preds = json.load(f)\n",
    "\n",
    "references = []\n",
    "hypotheses = []\n",
    "\n",
    "for p in preds:\n",
    "    img_id = p[\"image_id\"]\n",
    "    hyp = nltk.word_tokenize(p[\"caption\"].lower())\n",
    "    refs = [nltk.word_tokenize(cap.lower()) for cap in ref_dict[img_id]]\n",
    "    hypotheses.append(hyp)\n",
    "    references.append(refs)\n",
    "\n",
    "smooth = SmoothingFunction().method4\n",
    "\n",
    "print(\"BLEU-1:\", corpus_bleu(references, hypotheses, weights=(1, 0, 0, 0), smoothing_function=smooth))\n",
    "print(\"BLEU-2:\", corpus_bleu(references, hypotheses, weights=(0.5, 0.5, 0, 0), smoothing_function=smooth))\n",
    "print(\"BLEU-3:\", corpus_bleu(references, hypotheses, weights=(0.33, 0.33, 0.33, 0), smoothing_function=smooth))\n",
    "print(\"BLEU-4:\", corpus_bleu(references, hypotheses, weights=(0.25, 0.25, 0.25, 0.25), smoothing_function=smooth))"
   ]
  }
 ],
 "metadata": {
  "kernelspec": {
   "display_name": "Python 3",
   "language": "python",
   "name": "python3"
  },
  "language_info": {
   "codemirror_mode": {
    "name": "ipython",
    "version": 3
   },
   "file_extension": ".py",
   "mimetype": "text/x-python",
   "name": "python",
   "nbconvert_exporter": "python",
   "pygments_lexer": "ipython3",
   "version": "3.12.5"
  }
 },
 "nbformat": 4,
 "nbformat_minor": 5
}
